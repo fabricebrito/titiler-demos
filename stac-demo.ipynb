{
 "cells": [
  {
   "cell_type": "code",
   "execution_count": null,
   "metadata": {},
   "outputs": [],
   "source": [
    "import requests\n",
    "from ipyleaflet import Map, basemaps, TileLayer, basemap_to_tiles, GeoJSON, LayersControl"
   ]
  },
  {
   "cell_type": "code",
   "execution_count": null,
   "metadata": {},
   "outputs": [],
   "source": [
    "titiler_endpoint = \"https://dfu60xgk3j.execute-api.us-east-1.amazonaws.com/\" # Devseed temporary endpoint"
   ]
  },
  {
   "cell_type": "code",
   "execution_count": null,
   "metadata": {},
   "outputs": [],
   "source": [
    "url_template = \"https://earth-search.aws.element84.com/v0/collections/sentinel-s2-l2a-cogs/items/{id}\""
   ]
  },
  {
   "cell_type": "code",
   "execution_count": null,
   "metadata": {},
   "outputs": [],
   "source": [
    "bounds = [30.155974613579858, 28.80949327971016, 31.050481437029678, 29.815791988006527]"
   ]
  },
  {
   "cell_type": "code",
   "execution_count": null,
   "metadata": {},
   "outputs": [],
   "source": [
    "# Get Tile URL\n",
    "r = requests.get(\n",
    "    f\"{titiler_endpoint}/stac/tilejson.json\",\n",
    "    params = {\n",
    "        \"url\": url_template.format(id='S2B_36RTT_20191205_0_L2A'),\n",
    "        \"assets\": \"B04,B03,B02\",  # Simple RGB combination (True Color)\n",
    "        \"color_formula\": \"Gamma RGB 3.5 Saturation 1.7 Sigmoidal RGB 15 0.35\",  # We use a rio-color formula to make the tiles look nice\n",
    "        \"minzoom\": 5,  # By default titiler will use 0\n",
    "        \"maxzoom\": 20, # By default titiler will use 24\n",
    "    }\n",
    ").json()\n",
    "print(r)\n",
    "\n",
    "m = Map(\n",
    "    center=((bounds[1] + bounds[3]) / 2,(bounds[0] + bounds[2]) / 2),\n",
    "    zoom=9\n",
    ")\n",
    "\n",
    "tiles = TileLayer(\n",
    "    url=r[\"tiles\"][0],\n",
    "    min_zoom=r[\"minzoom\"],\n",
    "    max_zoom=r[\"maxzoom\"],\n",
    "    opacity=1\n",
    ")\n",
    "m.add_layer(tiles)\n",
    "m"
   ]
  },
  {
   "cell_type": "code",
   "execution_count": null,
   "metadata": {},
   "outputs": [],
   "source": [
    "# Get Tile URL\n",
    "r = requests.get(\n",
    "    f\"{titiler_endpoint}/stac/tilejson.json\",\n",
    "    params = {\n",
    "        \"url\": url_template.format(id='S2B_36RTT_20191205_0_L2A'),\n",
    "        \"assets\": \"visual\",  # RGB \n",
    "        \"minzoom\": 5,  # By default titiler will use 0\n",
    "        \"maxzoom\": 20, # By default titiler will use 24\n",
    "    }\n",
    ").json()\n",
    "print(r)\n",
    "\n",
    "m = Map(\n",
    "    center=((bounds[1] + bounds[3]) / 2,(bounds[0] + bounds[2]) / 2),\n",
    "    zoom=9\n",
    ")\n",
    "\n",
    "tiles = TileLayer(\n",
    "    url=r[\"tiles\"][0],\n",
    "    min_zoom=r[\"minzoom\"],\n",
    "    max_zoom=r[\"maxzoom\"],\n",
    "    opacity=1\n",
    ")\n",
    "m.add_layer(tiles)\n",
    "m"
   ]
  },
  {
   "cell_type": "code",
   "execution_count": null,
   "metadata": {},
   "outputs": [],
   "source": []
  },
  {
   "cell_type": "code",
   "execution_count": null,
   "metadata": {},
   "outputs": [],
   "source": [
    "# Get Tile URL\n",
    "r = requests.get(\n",
    "    f\"{titiler_endpoint}/stac/tilejson.json\",\n",
    "    params = {\n",
    "        \"url\": url_template.format(id='S2B_36RTT_20191205_0_L2A'),\n",
    "        \"expression\": \"(B8A-B04)/(B8A+B04)\",\n",
    "        \"rescale\": \"-1,1\",\n",
    "        \"color_map\": \"cfastie\",\n",
    "        \"minzoom\": 5,  # By default titiler will use 0\n",
    "        \"maxzoom\": 20, # By default titiler will use 24\n",
    "    }\n",
    ").json()\n",
    "print(r)\n",
    "\n",
    "m = Map(\n",
    "    center=((bounds[1] + bounds[3]) / 2,(bounds[0] + bounds[2]) / 2),\n",
    "    zoom=9\n",
    ")\n",
    "\n",
    "tiles = TileLayer(\n",
    "    url=r[\"tiles\"][0],\n",
    "    min_zoom=r[\"minzoom\"],\n",
    "    max_zoom=r[\"maxzoom\"],\n",
    "    opacity=1\n",
    ")\n",
    "m.add_layer(tiles)\n",
    "m"
   ]
  },
  {
   "cell_type": "code",
   "execution_count": null,
   "metadata": {},
   "outputs": [],
   "source": [
    "# Get Tile URL\n",
    "r = requests.get(\n",
    "    f\"{titiler_endpoint}/stac/tilejson.json\",\n",
    "    params = {\n",
    "        \"url\": url_template.format(id='S2B_36RTT_20191205_0_L2A'),\n",
    "        \"expression\": \"(B08-B04)/(B08+B04)\",\n",
    "        \"rescale\": \"-1,1\",\n",
    "        \"minzoom\": 5,  # By default titiler will use 0\n",
    "        \"maxzoom\": 20, # By default titiler will use 24\n",
    "    }\n",
    ").json()\n",
    "print(r)\n",
    "\n",
    "m = Map(\n",
    "    center=((bounds[1] + bounds[3]) / 2,(bounds[0] + bounds[2]) / 2),\n",
    "    zoom=9\n",
    ")\n",
    "\n",
    "tiles_0 = TileLayer(\n",
    "    url=r[\"tiles\"][0],\n",
    "    min_zoom=r[\"minzoom\"],\n",
    "    max_zoom=r[\"maxzoom\"],\n",
    "    opacity=1,\n",
    "    name='NDVI'\n",
    ")\n",
    "\n",
    "m.add_layer(tiles_0)\n",
    "\n",
    "r = requests.get(\n",
    "    f\"{titiler_endpoint}/stac/tilejson.json\",\n",
    "    params = {\n",
    "        \"url\": url_template.format(id='S2B_36RTT_20191205_0_L2A'),\n",
    "        \"expression\": \"(B03-B08)/(B03+B08)\",\n",
    "        \"rescale\": \"-1,1\",\n",
    "        \"minzoom\": 5,  # By default titiler will use 0\n",
    "        \"maxzoom\": 20, # By default titiler will use 24\n",
    "    }\n",
    ").json()\n",
    "print(r)\n",
    "\n",
    "\n",
    "tiles_1 = TileLayer(\n",
    "    url=r[\"tiles\"][0],\n",
    "    min_zoom=r[\"minzoom\"],\n",
    "    max_zoom=r[\"maxzoom\"],\n",
    "    opacity=1,\n",
    "    name='NDWI'\n",
    ")\n",
    "\n",
    "m.add_layer(tiles_1)\n",
    "\n",
    "control = LayersControl(position='topright')\n",
    "m.add_control(control)\n",
    "\n",
    "\n",
    "m"
   ]
  },
  {
   "cell_type": "code",
   "execution_count": null,
   "metadata": {},
   "outputs": [],
   "source": []
  },
  {
   "cell_type": "code",
   "execution_count": null,
   "metadata": {},
   "outputs": [],
   "source": []
  }
 ],
 "metadata": {
  "kernelspec": {
   "display_name": "Python 3",
   "language": "python",
   "name": "python3"
  },
  "language_info": {
   "codemirror_mode": {
    "name": "ipython",
    "version": 3
   },
   "file_extension": ".py",
   "mimetype": "text/x-python",
   "name": "python",
   "nbconvert_exporter": "python",
   "pygments_lexer": "ipython3",
   "version": "3.7.8"
  }
 },
 "nbformat": 4,
 "nbformat_minor": 4
}
