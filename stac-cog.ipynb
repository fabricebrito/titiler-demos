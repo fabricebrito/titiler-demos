{
 "cells": [
  {
   "cell_type": "code",
   "execution_count": 1,
   "metadata": {},
   "outputs": [],
   "source": [
    "import requests\n",
    "from ipyleaflet import Map, basemaps, TileLayer, basemap_to_tiles, GeoJSON"
   ]
  },
  {
   "cell_type": "code",
   "execution_count": 2,
   "metadata": {},
   "outputs": [],
   "source": [
    "titiler_endpoint = \"http://retitiler.terradue.com:8000\"  # Devseed temporary endpoint\n",
    "stac_endpoint = \"https://earth-search.aws.element84.com/v0/search\""
   ]
  },
  {
   "cell_type": "code",
   "execution_count": 3,
   "metadata": {},
   "outputs": [],
   "source": [
    "url_template = \"https://earth-search.aws.element84.com/v0/collections/sentinel-s2-l2a-cogs/items/{id}\""
   ]
  },
  {
   "cell_type": "code",
   "execution_count": 4,
   "metadata": {},
   "outputs": [],
   "source": [
    "bounds = [30.155974613579858, 28.80949327971016, 31.050481437029678, 29.815791988006527]"
   ]
  },
  {
   "cell_type": "code",
   "execution_count": 6,
   "metadata": {},
   "outputs": [
    {
     "name": "stdout",
     "output_type": "stream",
     "text": [
      "{'tilejson': '2.2.0', 'name': 'S2B_36RTT_20191205_0_L2A', 'version': '1.0.0', 'scheme': 'xyz', 'tiles': ['http://retitiler.terradue.com:8000/stac/tiles/WebMercatorQuad/{z}/{x}/{y}@1x?url=https%3A%2F%2Fearth-search.aws.element84.com%2Fv0%2Fcollections%2Fsentinel-s2-l2a-cogs%2Fitems%2FS2B_36RTT_20191205_0_L2A&assets=B04%2CB03%2CB02&color_formula=Gamma+RGB+3.5+Saturation+1.7+Sigmoidal+RGB+15+0.35'], 'minzoom': 5, 'maxzoom': 20, 'bounds': [30.155974613579858, 28.80949327971016, 31.050481437029678, 29.815791988006527], 'center': [30.603228025304766, 29.312642633858346, 5]}\n"
     ]
    },
    {
     "data": {
      "application/vnd.jupyter.widget-view+json": {
       "model_id": "fc2beea03ba04545818521bdd57142e0",
       "version_major": 2,
       "version_minor": 0
      },
      "text/plain": [
       "Map(center=[29.312642633858346, 30.603228025304766], controls=(ZoomControl(options=['position', 'zoom_in_text'…"
      ]
     },
     "metadata": {},
     "output_type": "display_data"
    }
   ],
   "source": [
    "# Get Tile URL\n",
    "r = requests.get(\n",
    "    f\"{titiler_endpoint}/stac/tilejson.json\",\n",
    "    params = {\n",
    "        \"url\": url_template.format(id='S2B_36RTT_20191205_0_L2A'),\n",
    "        \"assets\": \"B04,B03,B02\",  # Simple RGB combination (True Color)\n",
    "        \"color_formula\": \"Gamma RGB 3.5 Saturation 1.7 Sigmoidal RGB 15 0.35\",  # We use a rio-color formula to make the tiles look nice\n",
    "        \"minzoom\": 5,  # By default titiler will use 0\n",
    "        \"maxzoom\": 20, # By default titiler will use 24\n",
    "    }\n",
    ").json()\n",
    "print(r)\n",
    "\n",
    "m = Map(\n",
    "    center=((bounds[1] + bounds[3]) / 2,(bounds[0] + bounds[2]) / 2),\n",
    "    zoom=9\n",
    ")\n",
    "\n",
    "tiles = TileLayer(\n",
    "    url=r[\"tiles\"][0],\n",
    "    min_zoom=r[\"minzoom\"],\n",
    "    max_zoom=r[\"maxzoom\"],\n",
    "    opacity=1\n",
    ")\n",
    "m.add_layer(tiles)\n",
    "m"
   ]
  },
  {
   "cell_type": "code",
   "execution_count": 7,
   "metadata": {},
   "outputs": [
    {
     "name": "stdout",
     "output_type": "stream",
     "text": [
      "{'tilejson': '2.2.0', 'name': 'S2B_36RTT_20191205_0_L2A', 'version': '1.0.0', 'scheme': 'xyz', 'tiles': ['http://retitiler.terradue.com:8000/stac/tiles/WebMercatorQuad/{z}/{x}/{y}@1x?url=https%3A%2F%2Fearth-search.aws.element84.com%2Fv0%2Fcollections%2Fsentinel-s2-l2a-cogs%2Fitems%2FS2B_36RTT_20191205_0_L2A&assets=visual'], 'minzoom': 5, 'maxzoom': 20, 'bounds': [30.155974613579858, 28.80949327971016, 31.050481437029678, 29.815791988006527], 'center': [30.603228025304766, 29.312642633858346, 5]}\n"
     ]
    },
    {
     "data": {
      "application/vnd.jupyter.widget-view+json": {
       "model_id": "55679dfc741e4ac8aedd9c9780e5c729",
       "version_major": 2,
       "version_minor": 0
      },
      "text/plain": [
       "Map(center=[29.312642633858346, 30.603228025304766], controls=(ZoomControl(options=['position', 'zoom_in_text'…"
      ]
     },
     "metadata": {},
     "output_type": "display_data"
    }
   ],
   "source": [
    "# Get Tile URL\n",
    "r = requests.get(\n",
    "    f\"{titiler_endpoint}/stac/tilejson.json\",\n",
    "    params = {\n",
    "        \"url\": url_template.format(id='S2B_36RTT_20191205_0_L2A'),\n",
    "        \"assets\": \"visual\",  # Simple RGB combination (True Color)\n",
    "        \"minzoom\": 5,  # By default titiler will use 0\n",
    "        \"maxzoom\": 20, # By default titiler will use 24\n",
    "    }\n",
    ").json()\n",
    "print(r)\n",
    "\n",
    "m = Map(\n",
    "    center=((bounds[1] + bounds[3]) / 2,(bounds[0] + bounds[2]) / 2),\n",
    "    zoom=9\n",
    ")\n",
    "\n",
    "tiles = TileLayer(\n",
    "    url=r[\"tiles\"][0],\n",
    "    min_zoom=r[\"minzoom\"],\n",
    "    max_zoom=r[\"maxzoom\"],\n",
    "    opacity=1\n",
    ")\n",
    "m.add_layer(tiles)\n",
    "m"
   ]
  },
  {
   "cell_type": "code",
   "execution_count": null,
   "metadata": {},
   "outputs": [],
   "source": []
  },
  {
   "cell_type": "code",
   "execution_count": 8,
   "metadata": {},
   "outputs": [
    {
     "name": "stdout",
     "output_type": "stream",
     "text": [
      "{'tilejson': '2.2.0', 'name': 'S2B_36RTT_20191205_0_L2A', 'version': '1.0.0', 'scheme': 'xyz', 'tiles': ['http://retitiler.terradue.com:8000/stac/tiles/WebMercatorQuad/{z}/{x}/{y}@1x?url=https%3A%2F%2Fearth-search.aws.element84.com%2Fv0%2Fcollections%2Fsentinel-s2-l2a-cogs%2Fitems%2FS2B_36RTT_20191205_0_L2A&expression=%28B8A-B03%29%2F%28B8A%2BB03%29&rescale=-1%2C1&color_map=cfastie'], 'minzoom': 5, 'maxzoom': 20, 'bounds': [30.155974613579858, 28.80949327971016, 31.050481437029678, 29.815791988006527], 'center': [30.603228025304766, 29.312642633858346, 5]}\n"
     ]
    },
    {
     "data": {
      "application/vnd.jupyter.widget-view+json": {
       "model_id": "9b2c23a154c34641b938f2b9c159ecd5",
       "version_major": 2,
       "version_minor": 0
      },
      "text/plain": [
       "Map(center=[29.312642633858346, 30.603228025304766], controls=(ZoomControl(options=['position', 'zoom_in_text'…"
      ]
     },
     "metadata": {},
     "output_type": "display_data"
    }
   ],
   "source": [
    "# Get Tile URL\n",
    "r = requests.get(\n",
    "    f\"{titiler_endpoint}/stac/tilejson.json\",\n",
    "    params = {\n",
    "        \"url\": url_template.format(id='S2B_36RTT_20191205_0_L2A'),\n",
    "        \"expression\": \"(B8A-B03)/(B8A+B03)\",\n",
    "        \"rescale\": \"-1,1\",\n",
    "        \"color_map\": \"cfastie\",\n",
    "        \"minzoom\": 5,  # By default titiler will use 0\n",
    "        \"maxzoom\": 20, # By default titiler will use 24\n",
    "    }\n",
    ").json()\n",
    "print(r)\n",
    "\n",
    "m = Map(\n",
    "    center=((bounds[1] + bounds[3]) / 2,(bounds[0] + bounds[2]) / 2),\n",
    "    zoom=9\n",
    ")\n",
    "\n",
    "tiles = TileLayer(\n",
    "    url=r[\"tiles\"][0],\n",
    "    min_zoom=r[\"minzoom\"],\n",
    "    max_zoom=r[\"maxzoom\"],\n",
    "    opacity=1\n",
    ")\n",
    "m.add_layer(tiles)\n",
    "m"
   ]
  },
  {
   "cell_type": "code",
   "execution_count": 24,
   "metadata": {},
   "outputs": [
    {
     "name": "stdout",
     "output_type": "stream",
     "text": [
      "{'tilejson': '2.2.0', 'name': 'S2B_36RTT_20191205_0_L2A', 'version': '1.0.0', 'scheme': 'xyz', 'tiles': ['https://dfu60xgk3j.execute-api.us-east-1.amazonaws.com/stac/tiles/WebMercatorQuad/{z}/{x}/{y}@1x?url=https%3A%2F%2Fearth-search.aws.element84.com%2Fv0%2Fcollections%2Fsentinel-s2-l2a-cogs%2Fitems%2FS2B_36RTT_20191205_0_L2A&expression=%28B08-B04%29%2F%28B08%2BB04%29&rescale=0%2C1&minzoom=5&maxzoom=20'], 'minzoom': 5, 'maxzoom': 20, 'bounds': [30.155974613579858, 28.80949327971016, 31.050481437029678, 29.815791988006527], 'center': [30.603228025304766, 29.312642633858346, 5]}\n"
     ]
    },
    {
     "data": {
      "application/vnd.jupyter.widget-view+json": {
       "model_id": "b1d97eede4224b799a8a25d47d0c5164",
       "version_major": 2,
       "version_minor": 0
      },
      "text/plain": [
       "Map(center=[29.312642633858346, 30.603228025304766], controls=(ZoomControl(options=['position', 'zoom_in_text'…"
      ]
     },
     "metadata": {},
     "output_type": "display_data"
    }
   ],
   "source": [
    "# Get Tile URL\n",
    "r = requests.get(\n",
    "    f\"{titiler_endpoint}/stac/tilejson.json\",\n",
    "    params = {\n",
    "        \"url\": url_template.format(id='S2B_36RTT_20191205_0_L2A'),\n",
    "        \"expression\": \"(B08-B04)/(B08+B04)\",\n",
    "        \"rescale\": \"0,1\",\n",
    "        \"minzoom\": 5,  # By default titiler will use 0\n",
    "        \"maxzoom\": 20, # By default titiler will use 24\n",
    "    }\n",
    ").json()\n",
    "print(r)\n",
    "\n",
    "m = Map(\n",
    "    center=((bounds[1] + bounds[3]) / 2,(bounds[0] + bounds[2]) / 2),\n",
    "    zoom=9\n",
    ")\n",
    "\n",
    "tiles = TileLayer(\n",
    "    url=r[\"tiles\"][0],\n",
    "    min_zoom=r[\"minzoom\"],\n",
    "    max_zoom=r[\"maxzoom\"],\n",
    "    opacity=1\n",
    ")\n",
    "m.add_layer(tiles)\n",
    "m"
   ]
  },
  {
   "cell_type": "code",
   "execution_count": null,
   "metadata": {},
   "outputs": [],
   "source": []
  }
 ],
 "metadata": {
  "kernelspec": {
   "display_name": "Python 3",
   "language": "python",
   "name": "python3"
  },
  "language_info": {
   "codemirror_mode": {
    "name": "ipython",
    "version": 3
   },
   "file_extension": ".py",
   "mimetype": "text/x-python",
   "name": "python",
   "nbconvert_exporter": "python",
   "pygments_lexer": "ipython3",
   "version": "3.7.6"
  }
 },
 "nbformat": 4,
 "nbformat_minor": 4
}
